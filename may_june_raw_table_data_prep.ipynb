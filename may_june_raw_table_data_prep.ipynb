{
 "cells": [
  {
   "cell_type": "code",
   "execution_count": 132,
   "id": "89c34b60-6a8e-4178-9da5-9cffcd30b877",
   "metadata": {},
   "outputs": [],
   "source": [
    "import pandas as pd"
   ]
  },
  {
   "cell_type": "code",
   "execution_count": 133,
   "id": "0fd9a327-8b5f-43f8-aef4-5e980dcc7581",
   "metadata": {},
   "outputs": [],
   "source": [
    "data_merged = pd.read_csv(\"traction-analytics/may_june_data_merged.csv\")\n",
    "data_unique = pd.read_csv(\"traction-analytics/combined_data_may_june_unique.csv\")\n",
    "data_unique = data_unique.rename(columns={\"Link\":\"link\", \"Facebook Page Name\": \"facebook_page_name\"})"
   ]
  },
  {
   "cell_type": "code",
   "execution_count": 134,
   "id": "5d2c6d5b-8483-45f1-8119-55dae420b3ec",
   "metadata": {},
   "outputs": [],
   "source": [
    "columns = [\"published\", \"Link URL\", \"facebook_page_name\", \"facebook_interactions\", \"date_extracted\"]\n",
    "may_june_data_filtered = pd.merge(data_merged, data_unique[['link', 'Link URL', \"facebook_page_name\"]], on='link')[columns].rename(columns={\"Link URL\":\"link\", \"date_extracted\":\"date_time_extracted\"})"
   ]
  },
  {
   "cell_type": "code",
   "execution_count": 135,
   "id": "3e577bb6-c34d-48dd-afea-2863960744f9",
   "metadata": {},
   "outputs": [],
   "source": [
    "# may_june_data_filtered = may_june_data_filtered.rename(columns={\"published\": \"date_time_extracted\", \"date_time_extracted\":\"published\"})"
   ]
  },
  {
   "cell_type": "code",
   "execution_count": 136,
   "id": "edf6cb62-c958-410e-bc49-cc8dd17af47f",
   "metadata": {},
   "outputs": [],
   "source": [
    "# columns2 = [\"published\", \"link\", \"facebook_page_name\", \"facebook_interactions\", \"date_time_extracted\"]\n",
    "# may_june_data_filtered = may_june_data_filtered[columns2]"
   ]
  },
  {
   "cell_type": "code",
   "execution_count": 137,
   "id": "c1152ed5-74f3-4dd0-8459-870b094b7a8e",
   "metadata": {},
   "outputs": [],
   "source": [
    "may_june_data_filtered[\"published\"] = pd.to_datetime(may_june_data_filtered['published'])\n",
    "may_june_data_filtered[\"date_time_extracted\"] = pd.to_datetime(may_june_data_filtered['date_time_extracted'])\n",
    "may_june_data_filtered['source'] = \"may_june_data_filtered.xlsx\""
   ]
  },
  {
   "cell_type": "code",
   "execution_count": 138,
   "id": "56b5e245-2025-4bd8-8b55-3f0a20ea9628",
   "metadata": {},
   "outputs": [],
   "source": [
    "may_june_data_filtered = may_june_data_filtered.dropna()"
   ]
  },
  {
   "cell_type": "code",
   "execution_count": 139,
   "id": "08ab3c06-7237-4cee-be4f-4a3497a5556b",
   "metadata": {},
   "outputs": [],
   "source": [
    "may_june_data_filtered.to_excel(\"traction-analytics/may_june_data_filtered.xlsx\", index=False)"
   ]
  },
  {
   "cell_type": "code",
   "execution_count": 141,
   "id": "f783cf47-ff2b-468c-9c75-77d5726d9936",
   "metadata": {},
   "outputs": [],
   "source": [
    "# may_june_data_filtered"
   ]
  }
 ],
 "metadata": {
  "kernelspec": {
   "display_name": "Python 3 (ipykernel)",
   "language": "python",
   "name": "python3"
  },
  "language_info": {
   "codemirror_mode": {
    "name": "ipython",
    "version": 3
   },
   "file_extension": ".py",
   "mimetype": "text/x-python",
   "name": "python",
   "nbconvert_exporter": "python",
   "pygments_lexer": "ipython3",
   "version": "3.10.0"
  }
 },
 "nbformat": 4,
 "nbformat_minor": 5
}
