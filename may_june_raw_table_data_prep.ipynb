{
 "cells": [
  {
   "cell_type": "code",
   "execution_count": 107,
   "id": "89c34b60-6a8e-4178-9da5-9cffcd30b877",
   "metadata": {},
   "outputs": [],
   "source": [
    "import pandas as pd"
   ]
  },
  {
   "cell_type": "code",
   "execution_count": 108,
   "id": "0fd9a327-8b5f-43f8-aef4-5e980dcc7581",
   "metadata": {},
   "outputs": [],
   "source": [
    "data_merged = pd.read_csv(\"traction-analytics/may_june_data_merged.csv\")\n",
    "data_unique = pd.read_csv(\"traction-analytics/combined_data_may_june_unique.csv\")\n",
    "data_unique = data_unique.rename(columns={\"Link\":\"link\"})"
   ]
  },
  {
   "cell_type": "code",
   "execution_count": 109,
   "id": "5d2c6d5b-8483-45f1-8119-55dae420b3ec",
   "metadata": {},
   "outputs": [],
   "source": [
    "columns = [\"published\", \"Link URL\", \"facebook_interactions\", \"date_extracted\", \"timestamp\"]\n",
    "may_june_data_filtered = pd.merge(data_merged, data_unique[['link', 'Link URL']], on='link')[columns].rename(columns={\"Link URL\":\"link\"})"
   ]
  },
  {
   "cell_type": "code",
   "execution_count": 110,
   "id": "c1152ed5-74f3-4dd0-8459-870b094b7a8e",
   "metadata": {},
   "outputs": [],
   "source": [
    "may_june_data_filtered[\"published\"] = pd.to_datetime(may_june_data_filtered['published'])\n",
    "may_june_data_filtered[\"date_extracted\"] = pd.to_datetime(may_june_data_filtered['date_extracted'])\n",
    "may_june_data_filtered[\"timestamp\"] = pd.to_datetime(may_june_data_filtered['timestamp'], unit=\"s\")"
   ]
  },
  {
   "cell_type": "code",
   "execution_count": 111,
   "id": "08ab3c06-7237-4cee-be4f-4a3497a5556b",
   "metadata": {},
   "outputs": [],
   "source": [
    "may_june_data_filtered.to_csv(\"traction-analytics/may_june_data_filtered.csv\", index=False)"
   ]
  },
  {
   "cell_type": "code",
   "execution_count": 73,
   "id": "d496015e-d33d-46c9-bcd3-6fea3c7c932f",
   "metadata": {},
   "outputs": [
    {
     "data": {
      "text/plain": [
       "0       2023-04-26 11:00:01\n",
       "1       2023-06-01 06:40:01\n",
       "2       2023-06-01 06:40:01\n",
       "3       2023-06-01 06:40:01\n",
       "4       2023-06-01 06:40:01\n",
       "                ...        \n",
       "15285   2023-05-29 01:30:02\n",
       "15286   2023-05-29 01:30:02\n",
       "15287   2023-06-08 09:47:07\n",
       "15288   2023-06-04 02:45:00\n",
       "15289   2023-06-01 00:30:00\n",
       "Name: published, Length: 15290, dtype: datetime64[ns]"
      ]
     },
     "execution_count": 73,
     "metadata": {},
     "output_type": "execute_result"
    }
   ],
   "source": [
    "may_june_data_filtered[\"published\"]"
   ]
  }
 ],
 "metadata": {
  "kernelspec": {
   "display_name": "Python 3 (ipykernel)",
   "language": "python",
   "name": "python3"
  },
  "language_info": {
   "codemirror_mode": {
    "name": "ipython",
    "version": 3
   },
   "file_extension": ".py",
   "mimetype": "text/x-python",
   "name": "python",
   "nbconvert_exporter": "python",
   "pygments_lexer": "ipython3",
   "version": "3.10.0"
  }
 },
 "nbformat": 4,
 "nbformat_minor": 5
}
