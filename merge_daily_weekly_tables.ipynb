{
 "cells": [
  {
   "cell_type": "code",
   "execution_count": 62,
   "id": "1f0afc8a-f1b1-469a-84b4-5c3018eefe28",
   "metadata": {},
   "outputs": [],
   "source": [
    "import pandas as pd"
   ]
  },
  {
   "cell_type": "code",
   "execution_count": 63,
   "id": "b0a3451d-4274-4a13-832a-ca7a38495d3b",
   "metadata": {},
   "outputs": [],
   "source": [
    "daily_df = pd.read_excel(\"traction-analytics/daily_df.xlsx\")\n",
    "weekly_df = pd.read_excel(\"traction-analytics/weekly_df.xlsx\")\n",
    "# daily_df = daily_df.dropna(subset=['label'])"
   ]
  },
  {
   "cell_type": "code",
   "execution_count": 64,
   "id": "9132479a-6d66-45c7-9448-daf3abd36d4a",
   "metadata": {},
   "outputs": [],
   "source": [
    "daily_test = daily_df\n",
    "# .loc[daily_df['link']=='https://tnp.straitstimes.com/lifestyle/tech/apple-users-urged-update-devices-fix-security-flaws-iphone-15-overheating']"
   ]
  },
  {
   "cell_type": "code",
   "execution_count": 65,
   "id": "a8812438-d11e-4fa9-a4bc-c602e74ad1ab",
   "metadata": {},
   "outputs": [],
   "source": [
    "weekly_test = weekly_df\n",
    "# .loc[weekly_df['link']=='https://tnp.straitstimes.com/lifestyle/tech/apple-users-urged-update-devices-fix-security-flaws-iphone-15-overheating']"
   ]
  },
  {
   "cell_type": "code",
   "execution_count": 85,
   "id": "0d342648-f255-4033-8c1f-197bb4391c92",
   "metadata": {},
   "outputs": [],
   "source": [
    "# daily_test"
   ]
  },
  {
   "cell_type": "code",
   "execution_count": 86,
   "id": "34ac2a9c-de92-426b-b86f-2cb5cfd7a8fd",
   "metadata": {},
   "outputs": [],
   "source": [
    "# weekly_test"
   ]
  },
  {
   "cell_type": "code",
   "execution_count": 68,
   "id": "7d4366a6-0fe3-447b-8f03-6354efb02484",
   "metadata": {},
   "outputs": [],
   "source": [
    "daily_cols = ['published', 'headline', 'summary', 'link', 'facebook_page_name', 'domain', 'label']\n",
    "merge_cols = ['published', 'link', 'facebook_page_name']\n",
    "final_cols = ['published', 'headline', 'summary', 'link', 'facebook_page_name', \n",
    "              'domain', 'facebook_interactions', 'date_time_extracted', 'source', 'label']\n",
    "final_df = weekly_test.merge(daily_test[daily_cols], \n",
    "                  on=merge_cols, \n",
    "                  how='left')[final_cols].rename(columns={'label':'suggested_labels'})"
   ]
  },
  {
   "cell_type": "code",
   "execution_count": 77,
   "id": "6c540eff-1353-4160-a5b4-8a66eef97774",
   "metadata": {},
   "outputs": [],
   "source": [
    "final_df = final_df.dropna(subset=['suggested_labels'])"
   ]
  },
  {
   "cell_type": "code",
   "execution_count": 83,
   "id": "6f8a5ec3-8a22-46ad-917f-3627bfc85703",
   "metadata": {},
   "outputs": [],
   "source": [
    "final_df[['theme', 'index']] = final_df['suggested_labels'].str.split('>', n=1, expand=True)"
   ]
  },
  {
   "cell_type": "code",
   "execution_count": 87,
   "id": "aecbbb56-4606-4761-bd03-4ddad5c20612",
   "metadata": {},
   "outputs": [],
   "source": [
    "# final_df"
   ]
  }
 ],
 "metadata": {
  "kernelspec": {
   "display_name": "Python 3 (ipykernel)",
   "language": "python",
   "name": "python3"
  },
  "language_info": {
   "codemirror_mode": {
    "name": "ipython",
    "version": 3
   },
   "file_extension": ".py",
   "mimetype": "text/x-python",
   "name": "python",
   "nbconvert_exporter": "python",
   "pygments_lexer": "ipython3",
   "version": "3.10.0"
  }
 },
 "nbformat": 4,
 "nbformat_minor": 5
}
