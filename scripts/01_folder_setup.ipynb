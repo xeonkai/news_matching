{
 "cells": [
  {
   "cell_type": "code",
   "execution_count": 1,
   "id": "5464e72e-8818-4108-b159-002a8026f50f",
   "metadata": {},
   "outputs": [],
   "source": [
    "from pathlib import Path"
   ]
  },
  {
   "cell_type": "code",
   "execution_count": 3,
   "id": "1d645288-0df5-4670-8bb1-0ceec25ae151",
   "metadata": {},
   "outputs": [],
   "source": [
    "project_folder = Path().absolute().parent\n",
    "\n",
    "scripts_deprecated_folder = project_folder / \"scripts\" / \"deprecated\"\n",
    "scripts_deprecated_folder.mkdir(parents=True, exist_ok=True)\n",
    "\n",
    "apps_pages_folder = project_folder / \"app\" / \"pages\"\n",
    "apps_pages_folder.mkdir(parents=True, exist_ok=True)\n",
    "\n",
    "data_raw_folder = project_folder/ \"data\" / \"raw\"\n",
    "data_raw_folder.mkdir(parents=True, exist_ok=True)\n",
    "data_processed_folder = project_folder/ \"data\" / \"processed\"\n",
    "data_processed_folder.mkdir(parents=True, exist_ok=True)\n",
    "data_embeddings_folder = project_folder/ \"data\" / \"embeddings\"\n",
    "data_embeddings_folder.mkdir(parents=True, exist_ok=True)\n",
    "\n",
    "figures_folder = project_folder/ \"figures\"\n",
    "figures_folder.mkdir(parents=True, exist_ok=True)\n",
    "\n",
    "reports_folder = project_folder/ \"reports\"\n",
    "reports_folder.mkdir(parents=True, exist_ok=True)\n",
    "\n",
    "results_folder = project_folder/ \"results\"\n",
    "results_folder.mkdir(parents=True, exist_ok=True)\n",
    "\n",
    "models_topic_model_folder = project_folder / \"models\" / \"topic_models\"\n",
    "models_topic_model_folder.mkdir(parents=True, exist_ok=True)\n",
    "\n",
    "models_search_model_folder = project_folder / \"models\" / \"embedding_search\"\n",
    "models_search_model_folder.mkdir(parents=True, exist_ok=True)"
   ]
  },
  {
   "cell_type": "code",
   "execution_count": null,
   "id": "51d13739-5de4-422d-842d-6cb26fcf42b7",
   "metadata": {},
   "outputs": [],
   "source": []
  }
 ],
 "metadata": {
  "kernelspec": {
   "display_name": "Python 3 (ipykernel)",
   "language": "python",
   "name": "python3"
  },
  "language_info": {
   "codemirror_mode": {
    "name": "ipython",
    "version": 3
   },
   "file_extension": ".py",
   "mimetype": "text/x-python",
   "name": "python",
   "nbconvert_exporter": "python",
   "pygments_lexer": "ipython3",
   "version": "3.9.13"
  }
 },
 "nbformat": 4,
 "nbformat_minor": 5
}
