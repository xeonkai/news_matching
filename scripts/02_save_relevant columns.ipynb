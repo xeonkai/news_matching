{
 "cells": [
  {
   "cell_type": "code",
   "execution_count": null,
   "id": "fb37d88a-d4a5-4f91-8e39-ce7c3e0da628",
   "metadata": {},
   "outputs": [],
   "source": [
    "import pandas as pd\n",
    "import numpy as np\n",
    "from pathlib import Path"
   ]
  },
  {
   "cell_type": "code",
   "execution_count": null,
   "id": "979df4fe-9b3d-4554-b87f-5efe9809a17f",
   "metadata": {},
   "outputs": [],
   "source": [
    "project_folder = Path().absolute().parent\n",
    "data_folder = project_folder / \"data\"\n",
    "data_raw_path = data_folder / \"raw\" / \"SG sanctions on Russia.xlsx\"\n",
    "processed_data_path = data_folder / \"processed\" / \"sg_sanctions_on_russia.parquet\"\n",
    "\n",
    "df = (\n",
    "    pd.read_excel(\n",
    "        data_raw_path,\n",
    "        sheet_name=\"Contents\",\n",
    "        parse_dates=[\"date\"],\n",
    "        usecols=[\n",
    "            \"id\",\n",
    "            \"source\",\n",
    "            \"title\",\n",
    "            \"content\",\n",
    "            \"date\",\n",
    "            \"url\",\n",
    "            \"domain\",\n",
    "            \"topics\",\n",
    "            \"image tags\",\n",
    "            \n",
    "        ]\n",
    "    ).set_index(\"id\")\n",
    ")\n",
    "df.to_parquet(processed_data_path)"
   ]
  },
  {
   "cell_type": "code",
   "execution_count": null,
   "id": "07beb939-6094-466c-ac39-54af14c22cfc",
   "metadata": {},
   "outputs": [],
   "source": []
  }
 ],
 "metadata": {
  "kernelspec": {
   "display_name": "Python 3 (ipykernel)",
   "language": "python",
   "name": "python3"
  },
  "language_info": {
   "codemirror_mode": {
    "name": "ipython",
    "version": 3
   },
   "file_extension": ".py",
   "mimetype": "text/x-python",
   "name": "python",
   "nbconvert_exporter": "python",
   "pygments_lexer": "ipython3",
   "version": "3.9.13"
  }
 },
 "nbformat": 4,
 "nbformat_minor": 5
}
