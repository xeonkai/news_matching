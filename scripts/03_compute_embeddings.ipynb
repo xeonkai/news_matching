{
 "cells": [
  {
   "cell_type": "code",
   "execution_count": null,
   "id": "4ba9fe7d-b0d9-4faf-9632-e5d827c5eaa1",
   "metadata": {},
   "outputs": [],
   "source": [
    "import pandas as pd\n",
    "import numpy as np\n",
    "from pathlib import Path\n",
    "from sentence_transformers import SentenceTransformer"
   ]
  },
  {
   "cell_type": "code",
   "execution_count": null,
   "id": "04187ee6-5229-4c13-abe7-cb10a050c380",
   "metadata": {},
   "outputs": [],
   "source": [
    "data_folder = Path(\"..\", \"data\")\n",
    "data_path = data_folder / \"processed\" / \"sg_sanctions_on_russia.parquet\""
   ]
  },
  {
   "cell_type": "code",
   "execution_count": null,
   "id": "79575238-513a-41db-8c27-396a77197130",
   "metadata": {},
   "outputs": [],
   "source": [
    "df = (\n",
    "    pd.read_parquet(data_path)\n",
    ")[lambda df: df[\"source\"] == \"Online News\"]\n",
    "# Sentences we want sentence embeddings for\n",
    "titles = df[\"title\"].to_list()\n",
    "content = df[\"content\"].to_list()"
   ]
  },
  {
   "cell_type": "code",
   "execution_count": null,
   "id": "6db7a0a6-beb8-412a-8bc3-2445c4874fd5",
   "metadata": {},
   "outputs": [],
   "source": [
    "def prepare_sentence_embeddings(data_folder, content, titles, checkpoint):\n",
    "    content_embeddings_path = data_folder / \"embeddings\" / f\"{checkpoint}_content_embeddings.npy\"\n",
    "    title_embeddings_path = data_folder / \"embeddings\" / f\"{checkpoint}_title_embeddings.npy\"\n",
    "    \n",
    "    model = SentenceTransformer(checkpoint)\n",
    "    if not content_embeddings_path.exists():\n",
    "        content_embeddings = model.encode(content, batch_size=32, show_progress_bar=True)\n",
    "        np.save(content_embeddings_path, content_embeddings)\n",
    "    else:\n",
    "        content_embeddings = np.load(content_embeddings_path)\n",
    "\n",
    "    if not title_embeddings_path.exists():\n",
    "        title_embeddings = model.encode(titles, batch_size=32, show_progress_bar=True)\n",
    "        np.save(title_embeddings_path, title_embeddings)\n",
    "    else:\n",
    "        title_embeddings = np.load(title_embeddings_path)\n",
    "    return content_embeddings, title_embeddings"
   ]
  },
  {
   "cell_type": "code",
   "execution_count": null,
   "id": "8361573c-9439-47b2-b376-2aa020dd4f04",
   "metadata": {},
   "outputs": [],
   "source": [
    "# For each embedding type, save embeddings\n",
    "checkpoint = \"multi-qa-MiniLM-L6-cos-v1\"\n",
    "content_embeddings, title_embeddings = prepare_sentence_embeddings(data_folder, content, titles, checkpoint)"
   ]
  },
  {
   "cell_type": "code",
   "execution_count": null,
   "id": "5a49546a-d7b1-4719-b5e6-409a004fbf55",
   "metadata": {},
   "outputs": [],
   "source": []
  },
  {
   "cell_type": "code",
   "execution_count": null,
   "id": "6fab5484-dc19-4641-987b-ee2b56f22f37",
   "metadata": {},
   "outputs": [],
   "source": []
  }
 ],
 "metadata": {
  "kernelspec": {
   "display_name": "Python 3 (ipykernel)",
   "language": "python",
   "name": "python3"
  },
  "language_info": {
   "codemirror_mode": {
    "name": "ipython",
    "version": 3
   },
   "file_extension": ".py",
   "mimetype": "text/x-python",
   "name": "python",
   "nbconvert_exporter": "python",
   "pygments_lexer": "ipython3",
   "version": "3.9.13"
  }
 },
 "nbformat": 4,
 "nbformat_minor": 5
}
