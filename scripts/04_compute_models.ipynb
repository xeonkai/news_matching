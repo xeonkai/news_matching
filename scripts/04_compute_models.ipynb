{
 "cells": [
  {
   "cell_type": "code",
   "execution_count": 1,
   "id": "eb03e29d-1a30-4e79-9892-ffaa8783d055",
   "metadata": {},
   "outputs": [],
   "source": [
    "import pandas as pd\n",
    "import numpy as np\n",
    "from pathlib import Path\n",
    "\n",
    "from top2vec import Top2Vec"
   ]
  },
  {
   "cell_type": "code",
   "execution_count": 2,
   "id": "0758d82f-89a6-4272-a38a-ffbd0254a277",
   "metadata": {},
   "outputs": [],
   "source": [
    "data_folder = Path(\"..\", \"data\")\n",
    "data_path = data_folder / \"processed\" / \"sg_sanctions_on_russia.parquet\""
   ]
  },
  {
   "cell_type": "code",
   "execution_count": 3,
   "id": "5b16d528-07b9-4927-8735-bda88caa5709",
   "metadata": {},
   "outputs": [],
   "source": [
    "df = (\n",
    "    pd.read_parquet(data_path)\n",
    ")[lambda df: df[\"source\"] == \"Online News\"]\n",
    "# Sentences we want sentence embeddings for\n",
    "titles = df[\"title\"].to_list()\n",
    "content = df[\"content\"].to_list()"
   ]
  },
  {
   "cell_type": "code",
   "execution_count": null,
   "id": "4851d3ce-a0d5-4b37-a369-355e592abe08",
   "metadata": {},
   "outputs": [],
   "source": [
    "%%time\n",
    "if not Path(\"top2vec_content\").exists():\n",
    "    model = Top2Vec(\n",
    "        documents=content, embedding_model=\"all-MiniLM-L6-v2\", workers=8\n",
    "    )\n",
    "    model.save(\"top2vec_content\")"
   ]
  },
  {
   "cell_type": "code",
   "execution_count": 4,
   "id": "906b3706-2140-44d9-8c18-48aebedc6cc5",
   "metadata": {},
   "outputs": [],
   "source": [
    "if not Path(\"top2vec_title\").exists():\n",
    "    model = Top2Vec(\n",
    "        documents=titles, embedding_model=\"all-MiniLM-L6-v2\", workers=8\n",
    "    )\n",
    "    model.save(\"top2vec_title\")"
   ]
  },
  {
   "cell_type": "code",
   "execution_count": null,
   "id": "408ee17a-0f1a-4036-86b0-ffc2c527a329",
   "metadata": {},
   "outputs": [],
   "source": []
  }
 ],
 "metadata": {
  "kernelspec": {
   "display_name": "Python 3.9.13 ('news_matching_miniforge')",
   "language": "python",
   "name": "python3"
  },
  "language_info": {
   "codemirror_mode": {
    "name": "ipython",
    "version": 3
   },
   "file_extension": ".py",
   "mimetype": "text/x-python",
   "name": "python",
   "nbconvert_exporter": "python",
   "pygments_lexer": "ipython3",
   "version": "3.9.13"
  },
  "vscode": {
   "interpreter": {
    "hash": "36dc9dd54c8932b132aa6270041c7e0660e9d3724e4f25449051b7924bd4a509"
   }
  }
 },
 "nbformat": 4,
 "nbformat_minor": 5
}
