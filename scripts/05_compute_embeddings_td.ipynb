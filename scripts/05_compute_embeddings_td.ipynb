{
 "cells": [
  {
   "cell_type": "code",
   "execution_count": 6,
   "metadata": {},
   "outputs": [],
   "source": [
    "from EmbeddingModel import EmbeddingModel\n",
    "from pathlib import Path\n",
    "import pandas as pd\n",
    "import numpy as np\n",
    "import pickle"
   ]
  },
  {
   "cell_type": "code",
   "execution_count": 2,
   "metadata": {},
   "outputs": [],
   "source": [
    "data_folder = Path(\"..\", \"data\")\n",
    "data_path = data_folder / \"processed\" / \"sg_sanctions_on_russia.parquet\""
   ]
  },
  {
   "cell_type": "code",
   "execution_count": 3,
   "metadata": {},
   "outputs": [],
   "source": [
    "df = (\n",
    "    pd.read_parquet(data_path)\n",
    ")[lambda df: df[\"source\"] == \"Online News\"]\n",
    "# Sentences we want sentence embeddings for\n",
    "titles = df[\"title\"].to_list()\n",
    "content = df[\"content\"].to_list()"
   ]
  },
  {
   "cell_type": "code",
   "execution_count": 4,
   "metadata": {},
   "outputs": [
    {
     "name": "stderr",
     "output_type": "stream",
     "text": [
      "/opt/homebrew/Caskroom/miniforge/base/envs/news_matching_miniforge/lib/python3.9/site-packages/sklearn/utils/deprecation.py:87: FutureWarning: Function get_feature_names is deprecated; get_feature_names is deprecated in 1.0 and will be removed in 1.2. Please use get_feature_names_out instead.\n",
      "  warnings.warn(msg, category=FutureWarning)\n"
     ]
    }
   ],
   "source": [
    "model = EmbeddingModel(titles, workers = 8)"
   ]
  },
  {
   "cell_type": "code",
   "execution_count": 7,
   "metadata": {},
   "outputs": [],
   "source": [
    "def set_embeddings_path(filename):\n",
    "    return Path(\"..\", \"data\", \"embeddings\", filename)\n",
    "\n",
    "\n",
    "np.save(set_embeddings_path(\"title_document_vectors\"), model.document_vectors)\n",
    "np.save(set_embeddings_path(\"title_word_vectors\"), model.word_vectors)\n",
    "\n",
    "with open(set_embeddings_path(\"title_word_indexes.pickle\"), 'wb') as b:\n",
    "    pickle.dump(model.word_indexes,b)\n",
    "\n",
    "with open(set_embeddings_path(\"title_vocab.pickle\"), 'wb') as b:\n",
    "    pickle.dump(model.vocab,b)"
   ]
  }
 ],
 "metadata": {
  "kernelspec": {
   "display_name": "Python 3.9.13 ('news_matching_miniforge')",
   "language": "python",
   "name": "python3"
  },
  "language_info": {
   "codemirror_mode": {
    "name": "ipython",
    "version": 3
   },
   "file_extension": ".py",
   "mimetype": "text/x-python",
   "name": "python",
   "nbconvert_exporter": "python",
   "pygments_lexer": "ipython3",
   "version": "3.9.13"
  },
  "orig_nbformat": 4,
  "vscode": {
   "interpreter": {
    "hash": "36dc9dd54c8932b132aa6270041c7e0660e9d3724e4f25449051b7924bd4a509"
   }
  }
 },
 "nbformat": 4,
 "nbformat_minor": 2
}
