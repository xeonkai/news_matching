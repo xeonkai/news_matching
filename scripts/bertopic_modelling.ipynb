{
 "cells": [
  {
   "cell_type": "markdown",
   "id": "00a0456d-5b5b-40ae-858a-8d9144b91a13",
   "metadata": {},
   "source": [
    "# Topic modelling using BERTopic"
   ]
  },
  {
   "cell_type": "markdown",
   "id": "c24ce2e7-8e03-4d73-8b0f-f668fe51ca71",
   "metadata": {},
   "source": [
    "## Load in dataset"
   ]
  },
  {
   "cell_type": "code",
   "execution_count": null,
   "id": "9a673d85-acac-45f6-ad54-a01292339ded",
   "metadata": {},
   "outputs": [],
   "source": [
    "import pandas as pd\n",
    "import numpy as np\n",
    "from pathlib import Path"
   ]
  },
  {
   "cell_type": "code",
   "execution_count": null,
   "id": "758315cc-ab45-4d2d-8f54-788dd229f1e7",
   "metadata": {},
   "outputs": [],
   "source": [
    "data_folder = Path(\"..\", \"data\")\n",
    "data_path = data_folder / \"processed\" / \"sg_sanctions_on_russia.parquet\""
   ]
  },
  {
   "cell_type": "code",
   "execution_count": null,
   "id": "9284f2fc-77de-41cc-9456-22c195764b78",
   "metadata": {},
   "outputs": [],
   "source": [
    "df = (\n",
    "    pd.read_parquet(data_path)\n",
    ")[lambda df: df[\"source\"] == \"Online News\"]\n",
    "df.head()"
   ]
  },
  {
   "cell_type": "markdown",
   "id": "03202edd-e513-418f-9880-73b7fafc281b",
   "metadata": {},
   "source": [
    "## Topic Modelling"
   ]
  },
  {
   "cell_type": "code",
   "execution_count": null,
   "id": "37e904fe-0137-47cc-939c-cad2c1d2bda5",
   "metadata": {},
   "outputs": [],
   "source": [
    "from bertopic import BERTopic\n",
    "from sentence_transformers import SentenceTransformer\n",
    "from sklearn.feature_extraction.text import CountVectorizer\n",
    "from spacy.lang.en.stop_words import STOP_WORDS\n",
    "\n",
    "from umap import UMAP\n",
    "from hdbscan import HDBSCAN"
   ]
  },
  {
   "cell_type": "code",
   "execution_count": null,
   "id": "49684c0a-fb2c-4734-b421-a33b16c235d0",
   "metadata": {},
   "outputs": [],
   "source": [
    "checkpoint = \"multi-qa-MiniLM-L6-cos-v1\"\n",
    "embedding_model = SentenceTransformer(checkpoint)\n",
    "\n",
    "content_embeddings_path = data_folder / \"embeddings\" / f\"{checkpoint}_content_embeddings.npy\"\n",
    "title_embeddings_path = data_folder / \"embeddings\" / f\"{checkpoint}_title_embeddings.npy\"\n",
    "\n",
    "# Choose content or titles\n",
    "text = df[\"content\"].to_list()\n",
    "embeddings = np.load(content_embeddings_path)"
   ]
  },
  {
   "cell_type": "markdown",
   "id": "cb79c435-fa91-4881-b4cd-a6adc300123e",
   "metadata": {},
   "source": [
    "### Skip if model has been trained before. Train Topic Model. "
   ]
  },
  {
   "cell_type": "code",
   "execution_count": null,
   "id": "acad8043-1c6e-4fbe-951e-88ca506f6fed",
   "metadata": {},
   "outputs": [],
   "source": [
    "%%time\n",
    "umap_model = UMAP(n_neighbors=10, n_components=3, metric='euclidean', min_dist=0.01, verbose=True)\n",
    "\n",
    "hdbscan_model = HDBSCAN(\n",
    "    min_cluster_size=5, prediction_data=True, gen_min_span_tree=True, \n",
    ")\n",
    "\n",
    "vectorizer_model = CountVectorizer(ngram_range=(1, 2), stop_words=STOP_WORDS)\n",
    "\n",
    "\n",
    "model = BERTopic(\n",
    "    # nr_topics=\"auto\",\n",
    "    # embedding_model=embedding_model,\n",
    "    umap_model=umap_model,\n",
    "    hdbscan_model=hdbscan_model,\n",
    "    vectorizer_model=vectorizer_model,\n",
    "    top_n_words=10,\n",
    "    language=\"english\",\n",
    "    calculate_probabilities=True,\n",
    "    verbose=True,\n",
    ")\n",
    "\n",
    "# topics, probs = model.fit_transform(text) \n",
    "topics, probs = model.fit_transform(text, embeddings)"
   ]
  },
  {
   "cell_type": "code",
   "execution_count": null,
   "id": "3b32e317-1bef-4f12-b8a5-955697518f20",
   "metadata": {},
   "outputs": [],
   "source": [
    "model.visualize_hierarchy()"
   ]
  },
  {
   "cell_type": "markdown",
   "id": "f89bbafd-0eb1-4284-8c34-7ab0d5748167",
   "metadata": {},
   "source": [
    "#### Merge similar topics until we get to desired granularity"
   ]
  },
  {
   "cell_type": "code",
   "execution_count": null,
   "id": "49fe816c-68d7-4cb0-9d82-85efdc147ffd",
   "metadata": {},
   "outputs": [],
   "source": [
    "%%time\n",
    "new_topics, new_probs = model.reduce_topics(text, topics, probs, nr_topics=8)"
   ]
  },
  {
   "cell_type": "code",
   "execution_count": null,
   "id": "008fc3e2-c406-449a-a009-25924e89181e",
   "metadata": {},
   "outputs": [],
   "source": [
    "model.visualize_hierarchy()"
   ]
  },
  {
   "cell_type": "markdown",
   "id": "a20b8e60-bad2-415a-81f7-01ed523dc600",
   "metadata": {},
   "source": [
    "#### Checkpoint relevant data & progress"
   ]
  },
  {
   "cell_type": "code",
   "execution_count": null,
   "id": "cae87f39-040a-4724-911c-f47441a8cb60",
   "metadata": {},
   "outputs": [],
   "source": [
    "# np.save(\"bertopic_model_condensed_topics.npy\", np.array(new_topics))\n",
    "# np.save(\"bertopic_model_condensed_probs.npy\", new_probs)\n",
    "# model.save(\"bertopic_model_condensed\")"
   ]
  },
  {
   "cell_type": "markdown",
   "id": "4ceac9d0-1d71-4a28-bb35-14a7a6db203e",
   "metadata": {},
   "source": [
    "### Load models and continue experimentation"
   ]
  },
  {
   "cell_type": "code",
   "execution_count": null,
   "id": "44c80b36-fa9b-4e5b-a118-652d7628e40a",
   "metadata": {},
   "outputs": [],
   "source": [
    "new_topics = np.load(\"bertopic_model_condensed_topics.npy\").tolist()\n",
    "new_probs = np.load(\"bertopic_model_condensed_probs.npy\")\n",
    "model = BERTopic.load(\"bertopic_model_condensed\")"
   ]
  },
  {
   "cell_type": "code",
   "execution_count": null,
   "id": "447565f4-2a44-4767-b58a-a55831c94f64",
   "metadata": {},
   "outputs": [],
   "source": [
    "model.visualize_hierarchy()"
   ]
  },
  {
   "cell_type": "code",
   "execution_count": null,
   "id": "60ed3512-5401-4a99-aed2-5a23606deea5",
   "metadata": {},
   "outputs": [],
   "source": [
    "model.get_topic_info()"
   ]
  },
  {
   "cell_type": "code",
   "execution_count": null,
   "id": "773c8e7b-6812-4acb-8bc8-bc98f29ea46c",
   "metadata": {},
   "outputs": [],
   "source": [
    "model.visualize_barchart()"
   ]
  },
  {
   "cell_type": "code",
   "execution_count": null,
   "id": "d3ab2c2e-9e1d-4f3a-bd78-b450f20d124a",
   "metadata": {},
   "outputs": [],
   "source": [
    "model.visualize_topics()"
   ]
  },
  {
   "cell_type": "code",
   "execution_count": null,
   "id": "a12de50f-9527-485a-a60b-05b92b5ed39c",
   "metadata": {},
   "outputs": [],
   "source": [
    "# Run the visualization with the original embeddings\n",
    "# model.visualize_documents(text, embeddings=embeddings)\n",
    "\n",
    "# reduced_embeddings = umap_model.fit_transform(embeddings)\n",
    "# model.visualize_documents(text, embeddings=reduced_embeddings)"
   ]
  },
  {
   "cell_type": "markdown",
   "id": "9369b84c-15ba-4f61-8538-6346665269ff",
   "metadata": {},
   "source": [
    "#### Select representative docs"
   ]
  },
  {
   "cell_type": "code",
   "execution_count": null,
   "id": "c0588cc3-b379-4f41-9df4-ab18e974132d",
   "metadata": {},
   "outputs": [],
   "source": [
    "topic_docs = pd.Series(\n",
    "    pd.DataFrame(\n",
    "        {\n",
    "            k:v[:5] for k,v in \n",
    "            model.get_representative_docs().items() \n",
    "            if k != -1\n",
    "        } # Select top 5 representative docs in each defined topic\n",
    "    ).T.sort_index()\n",
    "    .values[range(8), [2, 0, 2, 0, 2, 3, 0, 0]] # Select single seed article among top 5\n",
    ").to_frame(\"content\").rename_axis(\"topic_num\").reset_index() # Formatting\n",
    "topic_docs"
   ]
  },
  {
   "cell_type": "code",
   "execution_count": null,
   "id": "292b73dd-b5b1-4f9f-83d6-aeb2134698b0",
   "metadata": {},
   "outputs": [],
   "source": [
    "# Map back text to original dataframe to get document ids.\n",
    "(\n",
    "    df.reset_index()\n",
    "    .merge(topic_docs, on=\"content\")\n",
    "    .sort_values(\"date\")\n",
    "    .drop_duplicates(\"content\")\n",
    "    [[\"id\", \"title\", \"content\", \"url\", \"domain\", \"topic_num\"]]\n",
    "    .sort_values(\"topic_num\")[\"id\"]\n",
    "    .to_list()\n",
    ")"
   ]
  },
  {
   "cell_type": "markdown",
   "id": "96fd2a2a-1c43-4134-b70e-0ba7c5416b66",
   "metadata": {},
   "source": [
    "### Plotting experimentation"
   ]
  },
  {
   "cell_type": "code",
   "execution_count": null,
   "id": "7935cd99-f3c9-4b44-88e1-830046521ceb",
   "metadata": {},
   "outputs": [],
   "source": [
    "import hvplot.pandas\n",
    "\n",
    "# Map back clusters to df\n",
    "df[\"topic\"] = new_topics\n",
    "# Get keywords for each cluster\n",
    "df[\"topic_size\"] = df['topic'].map(model.topic_sizes)\n",
    "df['keywords'] = df['topic'].map(model.topic_names)\n",
    "\n",
    "viz_umap = UMAP(n_neighbors=10, n_components=2, min_dist=0.0, metric='euclidean').fit(embeddings)\n",
    "viz_umap.embedding_\n",
    "\n",
    "df[\"x\"] = viz_umap.embedding_[:, 0]\n",
    "df[\"y\"] = viz_umap.embedding_[:, 1]"
   ]
  },
  {
   "cell_type": "code",
   "execution_count": null,
   "id": "490c2032-c801-470e-ba8f-fb37a813a93e",
   "metadata": {},
   "outputs": [],
   "source": [
    "(\n",
    "    df[lambda d: d[\"topic\"] != -1]\n",
    "    .hvplot.scatter(\n",
    "        x=\"x\",\n",
    "        y=\"y\",\n",
    "        by=\"topic\",\n",
    "        # alpha=0.5,\n",
    "        hover_cols=[\"title\", \"keywords\", \"topic\", \"date\", \"url\", \"domain\"],\n",
    "    )\n",
    ")"
   ]
  },
  {
   "cell_type": "code",
   "execution_count": null,
   "id": "b61b98f2-6c00-4c52-b548-06981a90abaf",
   "metadata": {},
   "outputs": [],
   "source": []
  }
 ],
 "metadata": {
  "kernelspec": {
   "display_name": "Python 3 (ipykernel)",
   "language": "python",
   "name": "python3"
  },
  "language_info": {
   "codemirror_mode": {
    "name": "ipython",
    "version": 3
   },
   "file_extension": ".py",
   "mimetype": "text/x-python",
   "name": "python",
   "nbconvert_exporter": "python",
   "pygments_lexer": "ipython3",
   "version": "3.9.13"
  }
 },
 "nbformat": 4,
 "nbformat_minor": 5
}
