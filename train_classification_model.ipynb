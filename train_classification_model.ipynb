{
 "cells": [
  {
   "cell_type": "code",
   "execution_count": null,
   "id": "598ea0e9-b868-423d-804b-b15987824cbc",
   "metadata": {},
   "outputs": [],
   "source": [
    "from pathlib import Path\n",
    "import datetime\n",
    "\n",
    "import pandas as pd\n",
    "\n",
    "from datasets import load_dataset, Features, Value\n",
    "from sentence_transformers import SentenceTransformer\n",
    "from sentence_transformers.losses import CosineSimilarityLoss\n",
    "from setfit import SetFitModel, SetFitTrainer\n",
    "\n",
    "RAW_DATA_DIR = Path(\"data\", \"raw\")\n",
    "PROCESSED_DATA_DIR = Path(\"data\", \"processed\")"
   ]
  },
  {
   "cell_type": "code",
   "execution_count": null,
   "id": "684b1389-dbb8-446f-8c42-0b85ee1da089",
   "metadata": {},
   "outputs": [],
   "source": [
    "# TODO: Use cleaned data + new labelled data for training\n",
    "train_files = [str(p) for p in PROCESSED_DATA_DIR.iterdir()]\n",
    "train_files"
   ]
  },
  {
   "cell_type": "code",
   "execution_count": null,
   "id": "68ced40e-5850-4eea-9204-02908048f3a2",
   "metadata": {},
   "outputs": [],
   "source": [
    "t_df = pd.read_csv(\n",
    "    \"tagged_articles.csv\", \n",
    "    usecols=[\"Published\", \"Headline\", \"Summary\", \"Theme\", \"New Index\", \"New Sub Index\"],\n",
    "    na_values=\"-\",\n",
    "    parse_dates=[\"Published\"],\n",
    ").rename(\n",
    "    lambda col_name: col_name.lower().replace(\" \", \"_\"), axis=\"columns\"\n",
    ").assign(label = lambda df: df[[\"theme\", \"new_index\"]].fillna(\"\").agg(' > '.join,axis=\"columns\"))\n",
    "\n",
    "t_df.to_parquet(\"test.parquet\")"
   ]
  },
  {
   "cell_type": "code",
   "execution_count": null,
   "id": "60845d07-243b-4c0f-9c13-a0a2107bb20b",
   "metadata": {},
   "outputs": [],
   "source": [
    "# TODO: Replace with taxonomy\n",
    "\n",
    "# Scaffold for trial\n",
    "# df = pd.read_csv(\"tagged_articles.csv\", usecols=[\"Headline\", \"Theme\", \"New Index\", \"New Sub Index\", \"label\"]).rename(lambda col_name: col_name.lower().replace(\" \", \"_\"), axis=\"columns\")\n",
    "min_labels_list = t_df[\"label\"].value_counts()[lambda s: s>=2].index.to_list()\n",
    "\n",
    "# TODO: Replace with duckdb schema\n",
    "features = Features({\n",
    "    'published': Value('timestamp[ns]'),\n",
    "    'headline': Value('string'),\n",
    "    'summary': Value('string'),\n",
    "    'theme': Value('string'),\n",
    "    'new_index': Value('string'),\n",
    "    'new_sub_index': Value('string'),\n",
    "    'label': Value('string'),\n",
    "})\n",
    "\n",
    "# TODO: Load real data when ready\n",
    "# dataset = load_dataset(\"parquet\", data_files={'train': train_files}, features=features)\n",
    "dataset = load_dataset(\"parquet\", data_files={'train': \"test.parquet\"}, features=features).filter(lambda row: row['label'] in min_labels_list)\n",
    "\n",
    "# # Fast train for testing\n",
    "# train_dataset = sample_dataset(dataset[\"train\"], label_column=\"label\", num_samples=4)\n",
    "train_dataset = dataset[\"train\"]\n",
    "\n",
    "# Load a SetFit model\n",
    "model = SetFitModel.from_pretrained(\n",
    "    \"sentence-transformers/multi-qa-MiniLM-L6-cos-v1\", \n",
    "    cache_dir=\"cached_models\",\n",
    ")\n",
    "\n",
    "# Create trainer\n",
    "trainer = SetFitTrainer(\n",
    "    model=model,\n",
    "    train_dataset=train_dataset,\n",
    "    loss_class=CosineSimilarityLoss,\n",
    "    metric=\"accuracy\",\n",
    "    batch_size=16,\n",
    "    num_iterations=20, # The number of text pairs to generate for contrastive learning\n",
    "    num_epochs=1, # The number of epochs to use for contrastive learning\n",
    "    column_mapping={\"headline\": \"text\", \"label\": \"label\"} # Map dataset columns to text/label expected by trainer\n",
    ")\n",
    "\n",
    "trainer.train()\n",
    "\n",
    "trainer.model.save_pretrained(f\"trained_models/{datetime.date.today().isoformat()}\")"
   ]
  }
 ],
 "metadata": {
  "kernelspec": {
   "display_name": "Python 3 (ipykernel)",
   "language": "python",
   "name": "python3"
  },
  "language_info": {
   "codemirror_mode": {
    "name": "ipython",
    "version": 3
   },
   "file_extension": ".py",
   "mimetype": "text/x-python",
   "name": "python",
   "nbconvert_exporter": "python",
   "pygments_lexer": "ipython3",
   "version": "3.9.13"
  }
 },
 "nbformat": 4,
 "nbformat_minor": 5
}
