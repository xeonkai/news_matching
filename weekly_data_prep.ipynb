{
 "cells": [
  {
   "cell_type": "code",
   "execution_count": 210,
   "id": "1b16c018-5e0f-4842-8eb6-177c62dfceb3",
   "metadata": {},
   "outputs": [],
   "source": [
    "import pandas as pd\n",
    "from datetime import datetime, timedelta"
   ]
  },
  {
   "cell_type": "code",
   "execution_count": 211,
   "id": "73774494-d787-4ae1-b866-24c33a33d92f",
   "metadata": {},
   "outputs": [],
   "source": [
    "data_name = \"test_-_for_indexing-facebook_posts-10_09_23-14_46 - 8 oct weekly.xlsx\"\n",
    "weekly_data = pd.read_excel(\"traction-analytics/test_-_for_indexing-facebook_posts-10_09_23-14_46 - 8 oct weekly.xlsx\")"
   ]
  },
  {
   "cell_type": "code",
   "execution_count": 212,
   "id": "b4eae9c9-f4e3-4f8b-b23d-8464962b47d9",
   "metadata": {},
   "outputs": [],
   "source": [
    "columns = [\"Published\", \"Link URL\", \"Facebook Interactions\"]\n",
    "weekly_data = weekly_data[columns].rename(columns={\"Published\":\"published\", \"Link URL\":\"link\", \"Facebook Interactions\":\"facebook_interactions\"})\n",
    "weekly_data['published'] = pd.to_datetime(weekly_data['published'])"
   ]
  },
  {
   "cell_type": "code",
   "execution_count": 213,
   "id": "7d10916e-c481-4e9a-85aa-4ab4289c0c1a",
   "metadata": {},
   "outputs": [],
   "source": [
    "date_string = data_name.partition(\"posts-\")[2].partition(\" -\")[0]\n",
    "format = '%m_%d_%y-%H_%M'\n",
    "formatted_date = datetime.strptime(date_string, format)"
   ]
  },
  {
   "cell_type": "code",
   "execution_count": 257,
   "id": "80f52c33-0ca4-4bb5-873d-55067ea6a5e6",
   "metadata": {},
   "outputs": [
    {
     "name": "stdout",
     "output_type": "stream",
     "text": [
      "2023-09-30\n",
      "2023-10-07\n"
     ]
    }
   ],
   "source": [
    "first_date = formatted_date.date() - timedelta(days=9)\n",
    "second_date = formatted_date.date() - timedelta(days=2)\n",
    "print(first_date)\n",
    "print(second_date)"
   ]
  },
  {
   "cell_type": "code",
   "execution_count": 258,
   "id": "2d025b85-f38e-481d-8879-7625fa292061",
   "metadata": {},
   "outputs": [
    {
     "name": "stderr",
     "output_type": "stream",
     "text": [
      "/var/folders/gv/wfw3k2b112s0fh1fzmtf7bsc0000gn/T/ipykernel_5301/2793186339.py:1: FutureWarning: Boolean inputs to the `inclusive` argument are deprecated in favour of `both` or `neither`.\n",
      "  weekly_data.loc[weekly_data['published'].dt.date.between(first_date, second_date, inclusive=False)]['published'].dt.date.unique()\n"
     ]
    },
    {
     "data": {
      "text/plain": [
       "array([datetime.date(2023, 10, 2), datetime.date(2023, 10, 3),\n",
       "       datetime.date(2023, 10, 4), datetime.date(2023, 10, 5),\n",
       "       datetime.date(2023, 10, 1), datetime.date(2023, 10, 6)],\n",
       "      dtype=object)"
      ]
     },
     "execution_count": 258,
     "metadata": {},
     "output_type": "execute_result"
    }
   ],
   "source": [
    "# weekly_data.loc[weekly_data['published'].dt.date.between(first_date, second_date, inclusive=False)]['published'].dt.date.unique()"
   ]
  },
  {
   "cell_type": "code",
   "execution_count": 262,
   "id": "356830ca-5876-487f-8f89-00583cd02b13",
   "metadata": {},
   "outputs": [
    {
     "name": "stdout",
     "output_type": "stream",
     "text": [
      "2023-09-30 00:00:07\n"
     ]
    }
   ],
   "source": [
    "print(min(weekly_data['published']))"
   ]
  },
  {
   "cell_type": "code",
   "execution_count": 191,
   "id": "16197fd0-7324-447b-bcb1-e104ee6b2d60",
   "metadata": {},
   "outputs": [],
   "source": [
    "weekly_data['date_extracted'] = formatted_date\n",
    "weekly_data['timestamp'] = formatted_date"
   ]
  },
  {
   "cell_type": "code",
   "execution_count": 192,
   "id": "eb3c671b-6548-4b05-8f85-e4cde2206567",
   "metadata": {},
   "outputs": [],
   "source": [
    "weekly_data = weekly_data.dropna()\n",
    "weekly_data['source'] = data_name"
   ]
  },
  {
   "cell_type": "code",
   "execution_count": 209,
   "id": "991ce35b-e67b-445b-b85a-9c6e8c31fc24",
   "metadata": {},
   "outputs": [],
   "source": [
    "# weekly_data"
   ]
  },
  {
   "cell_type": "code",
   "execution_count": 123,
   "id": "4516cf0d-812a-4ec1-a909-bded5ed8e6bf",
   "metadata": {},
   "outputs": [],
   "source": [
    "weekly_data.to_csv(\"traction-analytics/weekly_data2.csv\", index=False)"
   ]
  }
 ],
 "metadata": {
  "kernelspec": {
   "display_name": "Python 3 (ipykernel)",
   "language": "python",
   "name": "python3"
  },
  "language_info": {
   "codemirror_mode": {
    "name": "ipython",
    "version": 3
   },
   "file_extension": ".py",
   "mimetype": "text/x-python",
   "name": "python",
   "nbconvert_exporter": "python",
   "pygments_lexer": "ipython3",
   "version": "3.10.0"
  }
 },
 "nbformat": 4,
 "nbformat_minor": 5
}
