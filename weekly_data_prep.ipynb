{
 "cells": [
  {
   "cell_type": "code",
   "execution_count": 3,
   "id": "1b16c018-5e0f-4842-8eb6-177c62dfceb3",
   "metadata": {},
   "outputs": [],
   "source": [
    "import pandas as pd\n",
    "from datetime import datetime, timedelta"
   ]
  },
  {
   "cell_type": "code",
   "execution_count": 4,
   "id": "73774494-d787-4ae1-b866-24c33a33d92f",
   "metadata": {},
   "outputs": [],
   "source": [
    "data_name = \"test_-_for_indexing-facebook_posts-10_09_23-14_46 - 8 oct weekly.xlsx\"\n",
    "weekly_data = pd.read_excel(\"traction-analytics/test_-_for_indexing-facebook_posts-10_09_23-14_46 - 8 oct weekly.xlsx\")"
   ]
  },
  {
   "cell_type": "code",
   "execution_count": 6,
   "id": "ec1c2854-7a48-4d5a-ad37-82e27573a844",
   "metadata": {},
   "outputs": [
    {
     "data": {
      "text/plain": [
       "Index(['Published', 'Headline', 'Summary', 'Summary Word count', 'Link',\n",
       "       'Domain', 'Image Link', 'Facebook Predicted Score',\n",
       "       'Facebook Overperforming', 'Link URL', 'Highest Velocity',\n",
       "       'Branded Content', 'Branded Page Name', 'Branded Page URL',\n",
       "       'Facebook Interactions', 'Facebook Likes', 'Facebook Shares',\n",
       "       'Facebook Comments', 'Facebook Page Name', 'Facebook Media Type',\n",
       "       'Facebook Loves', 'Facebook Hahas', 'Facebook Wows', 'Facebook Sads',\n",
       "       'Facebook Angrys', 'Video Duration (seconds)'],\n",
       "      dtype='object')"
      ]
     },
     "execution_count": 6,
     "metadata": {},
     "output_type": "execute_result"
    }
   ],
   "source": [
    "weekly_data.columns"
   ]
  },
  {
   "cell_type": "code",
   "execution_count": 7,
   "id": "b4eae9c9-f4e3-4f8b-b23d-8464962b47d9",
   "metadata": {},
   "outputs": [],
   "source": [
    "columns = [\"Published\", \"Link URL\", \"Facebook Page Name\", \"Facebook Interactions\"]\n",
    "weekly_data = weekly_data[columns].rename(columns={\"Published\":\"published\", \"Link URL\":\"link\", \"Facebook Page Name\": \"facebook_page_name\", \"Facebook Interactions\":\"facebook_interactions\"})\n",
    "weekly_data['published'] = pd.to_datetime(weekly_data['published'])"
   ]
  },
  {
   "cell_type": "code",
   "execution_count": 8,
   "id": "96e69826-48b5-4646-a7af-e2f24bc680b8",
   "metadata": {},
   "outputs": [
    {
     "data": {
      "text/html": [
       "<div>\n",
       "<style scoped>\n",
       "    .dataframe tbody tr th:only-of-type {\n",
       "        vertical-align: middle;\n",
       "    }\n",
       "\n",
       "    .dataframe tbody tr th {\n",
       "        vertical-align: top;\n",
       "    }\n",
       "\n",
       "    .dataframe thead th {\n",
       "        text-align: right;\n",
       "    }\n",
       "</style>\n",
       "<table border=\"1\" class=\"dataframe\">\n",
       "  <thead>\n",
       "    <tr style=\"text-align: right;\">\n",
       "      <th></th>\n",
       "      <th>published</th>\n",
       "      <th>link</th>\n",
       "      <th>facebook_page_name</th>\n",
       "      <th>facebook_interactions</th>\n",
       "    </tr>\n",
       "  </thead>\n",
       "  <tbody>\n",
       "    <tr>\n",
       "      <th>0</th>\n",
       "      <td>2023-10-02 08:30:02</td>\n",
       "      <td>https://sg.news.yahoo.com/90-old-employee-mcdo...</td>\n",
       "      <td>Yahoo Singapore</td>\n",
       "      <td>102299</td>\n",
       "    </tr>\n",
       "    <tr>\n",
       "      <th>1</th>\n",
       "      <td>2023-10-02 13:00:38</td>\n",
       "      <td>https://www.facebook.com/565216322432199/posts...</td>\n",
       "      <td>The Straits Times</td>\n",
       "      <td>21533</td>\n",
       "    </tr>\n",
       "    <tr>\n",
       "      <th>2</th>\n",
       "      <td>2023-10-02 11:53:09</td>\n",
       "      <td>https://www.straitstimes.com/sport/shanti-pere...</td>\n",
       "      <td>The Straits Times</td>\n",
       "      <td>18828</td>\n",
       "    </tr>\n",
       "    <tr>\n",
       "      <th>3</th>\n",
       "      <td>2023-10-02 13:47:15</td>\n",
       "      <td>https://www.facebook.com/565216322432199/video...</td>\n",
       "      <td>The Straits Times</td>\n",
       "      <td>9449</td>\n",
       "    </tr>\n",
       "    <tr>\n",
       "      <th>4</th>\n",
       "      <td>2023-09-30 19:09:47</td>\n",
       "      <td>https://mothership.sg/2023/10/shanti-pereira-s...</td>\n",
       "      <td>Mothership</td>\n",
       "      <td>5990</td>\n",
       "    </tr>\n",
       "    <tr>\n",
       "      <th>...</th>\n",
       "      <td>...</td>\n",
       "      <td>...</td>\n",
       "      <td>...</td>\n",
       "      <td>...</td>\n",
       "    </tr>\n",
       "    <tr>\n",
       "      <th>995</th>\n",
       "      <td>2023-10-04 20:01:02</td>\n",
       "      <td>https://www.facebook.com/1460114364294601/post...</td>\n",
       "      <td>Goody Feed</td>\n",
       "      <td>74</td>\n",
       "    </tr>\n",
       "    <tr>\n",
       "      <th>996</th>\n",
       "      <td>2023-10-03 23:53:36</td>\n",
       "      <td>https://www.channelnewsasia.com/world/biden-tr...</td>\n",
       "      <td>CNA</td>\n",
       "      <td>74</td>\n",
       "    </tr>\n",
       "    <tr>\n",
       "      <th>997</th>\n",
       "      <td>2023-10-02 02:00:56</td>\n",
       "      <td>https://www.facebook.com/603998931774843/video...</td>\n",
       "      <td>Yahoo Singapore</td>\n",
       "      <td>74</td>\n",
       "    </tr>\n",
       "    <tr>\n",
       "      <th>998</th>\n",
       "      <td>2023-10-07 01:02:01</td>\n",
       "      <td>https://www.channelnewsasia.com/commentary/tou...</td>\n",
       "      <td>CNA</td>\n",
       "      <td>73</td>\n",
       "    </tr>\n",
       "    <tr>\n",
       "      <th>999</th>\n",
       "      <td>2023-10-05 12:15:04</td>\n",
       "      <td>https://www.businesstimes.com.sg/companies-mar...</td>\n",
       "      <td>The Business Times</td>\n",
       "      <td>73</td>\n",
       "    </tr>\n",
       "  </tbody>\n",
       "</table>\n",
       "<p>1000 rows × 4 columns</p>\n",
       "</div>"
      ],
      "text/plain": [
       "              published                                               link  \\\n",
       "0   2023-10-02 08:30:02  https://sg.news.yahoo.com/90-old-employee-mcdo...   \n",
       "1   2023-10-02 13:00:38  https://www.facebook.com/565216322432199/posts...   \n",
       "2   2023-10-02 11:53:09  https://www.straitstimes.com/sport/shanti-pere...   \n",
       "3   2023-10-02 13:47:15  https://www.facebook.com/565216322432199/video...   \n",
       "4   2023-09-30 19:09:47  https://mothership.sg/2023/10/shanti-pereira-s...   \n",
       "..                  ...                                                ...   \n",
       "995 2023-10-04 20:01:02  https://www.facebook.com/1460114364294601/post...   \n",
       "996 2023-10-03 23:53:36  https://www.channelnewsasia.com/world/biden-tr...   \n",
       "997 2023-10-02 02:00:56  https://www.facebook.com/603998931774843/video...   \n",
       "998 2023-10-07 01:02:01  https://www.channelnewsasia.com/commentary/tou...   \n",
       "999 2023-10-05 12:15:04  https://www.businesstimes.com.sg/companies-mar...   \n",
       "\n",
       "     facebook_page_name  facebook_interactions  \n",
       "0       Yahoo Singapore                 102299  \n",
       "1     The Straits Times                  21533  \n",
       "2     The Straits Times                  18828  \n",
       "3     The Straits Times                   9449  \n",
       "4            Mothership                   5990  \n",
       "..                  ...                    ...  \n",
       "995          Goody Feed                     74  \n",
       "996                 CNA                     74  \n",
       "997     Yahoo Singapore                     74  \n",
       "998                 CNA                     73  \n",
       "999  The Business Times                     73  \n",
       "\n",
       "[1000 rows x 4 columns]"
      ]
     },
     "execution_count": 8,
     "metadata": {},
     "output_type": "execute_result"
    }
   ],
   "source": [
    "weekly_data"
   ]
  },
  {
   "cell_type": "code",
   "execution_count": 213,
   "id": "7d10916e-c481-4e9a-85aa-4ab4289c0c1a",
   "metadata": {},
   "outputs": [],
   "source": [
    "date_string = data_name.partition(\"posts-\")[2].partition(\" -\")[0]\n",
    "format = '%m_%d_%y-%H_%M'\n",
    "formatted_date = datetime.strptime(date_string, format)"
   ]
  },
  {
   "cell_type": "code",
   "execution_count": 257,
   "id": "80f52c33-0ca4-4bb5-873d-55067ea6a5e6",
   "metadata": {},
   "outputs": [
    {
     "name": "stdout",
     "output_type": "stream",
     "text": [
      "2023-09-30\n",
      "2023-10-07\n"
     ]
    }
   ],
   "source": [
    "first_date = formatted_date.date() - timedelta(days=9)\n",
    "second_date = formatted_date.date() - timedelta(days=2)\n",
    "print(first_date)\n",
    "print(second_date)"
   ]
  },
  {
   "cell_type": "code",
   "execution_count": 258,
   "id": "2d025b85-f38e-481d-8879-7625fa292061",
   "metadata": {},
   "outputs": [
    {
     "name": "stderr",
     "output_type": "stream",
     "text": [
      "/var/folders/gv/wfw3k2b112s0fh1fzmtf7bsc0000gn/T/ipykernel_5301/2793186339.py:1: FutureWarning: Boolean inputs to the `inclusive` argument are deprecated in favour of `both` or `neither`.\n",
      "  weekly_data.loc[weekly_data['published'].dt.date.between(first_date, second_date, inclusive=False)]['published'].dt.date.unique()\n"
     ]
    },
    {
     "data": {
      "text/plain": [
       "array([datetime.date(2023, 10, 2), datetime.date(2023, 10, 3),\n",
       "       datetime.date(2023, 10, 4), datetime.date(2023, 10, 5),\n",
       "       datetime.date(2023, 10, 1), datetime.date(2023, 10, 6)],\n",
       "      dtype=object)"
      ]
     },
     "execution_count": 258,
     "metadata": {},
     "output_type": "execute_result"
    }
   ],
   "source": [
    "# weekly_data.loc[weekly_data['published'].dt.date.between(first_date, second_date, inclusive=False)]['published'].dt.date.unique()"
   ]
  },
  {
   "cell_type": "code",
   "execution_count": 262,
   "id": "356830ca-5876-487f-8f89-00583cd02b13",
   "metadata": {},
   "outputs": [
    {
     "name": "stdout",
     "output_type": "stream",
     "text": [
      "2023-09-30 00:00:07\n"
     ]
    }
   ],
   "source": [
    "print(min(weekly_data['published']))"
   ]
  },
  {
   "cell_type": "code",
   "execution_count": 191,
   "id": "16197fd0-7324-447b-bcb1-e104ee6b2d60",
   "metadata": {},
   "outputs": [],
   "source": [
    "weekly_data['date_extracted'] = formatted_date\n",
    "weekly_data['timestamp'] = formatted_date"
   ]
  },
  {
   "cell_type": "code",
   "execution_count": 192,
   "id": "eb3c671b-6548-4b05-8f85-e4cde2206567",
   "metadata": {},
   "outputs": [],
   "source": [
    "weekly_data = weekly_data.dropna()\n",
    "weekly_data['source'] = data_name"
   ]
  },
  {
   "cell_type": "code",
   "execution_count": 209,
   "id": "991ce35b-e67b-445b-b85a-9c6e8c31fc24",
   "metadata": {},
   "outputs": [],
   "source": [
    "# weekly_data"
   ]
  },
  {
   "cell_type": "code",
   "execution_count": 123,
   "id": "4516cf0d-812a-4ec1-a909-bded5ed8e6bf",
   "metadata": {},
   "outputs": [],
   "source": [
    "weekly_data.to_csv(\"traction-analytics/weekly_data2.csv\", index=False)"
   ]
  }
 ],
 "metadata": {
  "kernelspec": {
   "display_name": "Python 3 (ipykernel)",
   "language": "python",
   "name": "python3"
  },
  "language_info": {
   "codemirror_mode": {
    "name": "ipython",
    "version": 3
   },
   "file_extension": ".py",
   "mimetype": "text/x-python",
   "name": "python",
   "nbconvert_exporter": "python",
   "pygments_lexer": "ipython3",
   "version": "3.10.0"
  }
 },
 "nbformat": 4,
 "nbformat_minor": 5
}
